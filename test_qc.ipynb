{
 "cells": [
  {
   "cell_type": "code",
   "execution_count": 1,
   "id": "70a172cf",
   "metadata": {},
   "outputs": [],
   "source": [
    "import numpy as np\n",
    "import quantum_circuit as zq"
   ]
  },
  {
   "cell_type": "code",
   "execution_count": 2,
   "id": "fde04059",
   "metadata": {},
   "outputs": [],
   "source": [
    "# x_gate = zq.Gate.x()\n",
    "# qc = zq.QuantumCircuit(zq.QuantumRegister(1), zq.ClassicalRegister(1))\n",
    "# qc.apply(x_gate)"
   ]
  },
  {
   "cell_type": "code",
   "execution_count": 8,
   "id": "44ce15f0",
   "metadata": {},
   "outputs": [
    {
     "name": "stdout",
     "output_type": "stream",
     "text": [
      "[[ 0.  1.  0.  0.]\n",
      " [ 1.  0.  0.  0.]\n",
      " [ 0.  0. -0. -1.]\n",
      " [ 0.  0. -1. -0.]]\n"
     ]
    }
   ],
   "source": [
    "i = zq.Gate.i()\n",
    "x = zq.Gate.x()\n",
    "z = zq.Gate.z()\n",
    "zx = z.tensor(x)\n",
    " \n",
    "print(zx.amplitudes)"
   ]
  },
  {
   "cell_type": "code",
   "execution_count": 18,
   "id": "b86a2b07",
   "metadata": {},
   "outputs": [
    {
     "name": "stdout",
     "output_type": "stream",
     "text": [
      "[[0. 1.]\n",
      " [1. 0.]] \n",
      "equals\n",
      " [[0. 1.]\n",
      " [1. 0.]]\n"
     ]
    }
   ],
   "source": [
    "gate = zq.Gate.h() @ zq.Gate.z() @ zq.Gate.h()\n",
    "#print(gate.qubits)\n",
    "print(f\"{gate.amplitudes} \\nequals\\n {x.amplitudes}\")"
   ]
  },
  {
   "cell_type": "code",
   "execution_count": null,
   "id": "e123e3b1",
   "metadata": {},
   "outputs": [],
   "source": []
  }
 ],
 "metadata": {
  "kernelspec": {
   "display_name": "py310",
   "language": "python",
   "name": "python3"
  },
  "language_info": {
   "codemirror_mode": {
    "name": "ipython",
    "version": 3
   },
   "file_extension": ".py",
   "mimetype": "text/x-python",
   "name": "python",
   "nbconvert_exporter": "python",
   "pygments_lexer": "ipython3",
   "version": "3.10.4"
  }
 },
 "nbformat": 4,
 "nbformat_minor": 5
}
